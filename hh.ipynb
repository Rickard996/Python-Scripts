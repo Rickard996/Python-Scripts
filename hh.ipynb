#%% [markdown]
## This code shows you how to use the pdbpp libraby
