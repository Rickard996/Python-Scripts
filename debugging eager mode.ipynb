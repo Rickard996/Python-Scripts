{
  "nbformat": 4,
  "nbformat_minor": 0,
  "metadata": {
    "file_extension": ".py",
    "kernelspec": {
      "display_name": "Python 3",
      "language": "python",
      "name": "python3"
    },
    "language_info": {
      "codemirror_mode": {
        "name": "ipython",
        "version": 3
      },
      "file_extension": ".py",
      "mimetype": "text/x-python",
      "name": "python",
      "nbconvert_exporter": "python",
      "pygments_lexer": "ipython3",
      "version": "3.6.4"
    },
    "mimetype": "text/x-python",
    "name": "python",
    "npconvert_exporter": "python",
    "pygments_lexer": "ipython3",
    "version": 3,
    "colab": {
      "name": "debugging eager mode.ipynb",
      "provenance": []
    }
  },
  "cells": [
    {
      "cell_type": "markdown",
      "metadata": {
        "id": "VFxKCrAjW2RD",
        "colab_type": "text"
      },
      "source": [
        "# This code shows you how to use the pdb++ libraby\n",
        "\n",
        " This library can be used for debugging your tensoflow code and the procedure implemented here is known as\n",
        "[postmorten debugging](https://almarklein.org/pm-debugging.html).\n",
        "\n",
        " You can find the library [here](https://docs.python.org/3/library/pdb.html), and for more ***Markdown Styling*** you must vist [this](https://www.markdownguide.org/basic-syntax/) page.\n"
      ]
    },
    {
      "cell_type": "markdown",
      "metadata": {
        "id": "ib063gBEW2RO",
        "colab_type": "text"
      },
      "source": [
        "## Importing the required modules"
      ]
    },
    {
      "cell_type": "code",
      "metadata": {
        "id": "OUZvyXWkW2RT",
        "colab_type": "code",
        "colab": {}
      },
      "source": [
        "import os\n",
        "os.environ['TF_CPP_MIN_LOG_LEVEL'] = '3'\n",
        "import tensorflow as tf"
      ],
      "execution_count": 0,
      "outputs": []
    },
    {
      "cell_type": "markdown",
      "metadata": {
        "id": "BejW_kW-X8i0",
        "colab_type": "text"
      },
      "source": [
        "Now, let's check the Tensorflow Version"
      ]
    },
    {
      "cell_type": "code",
      "metadata": {
        "id": "7yER8ee6XRiV",
        "colab_type": "code",
        "outputId": "19ff8159-a00b-41ca-d07a-8fbdd5130990",
        "colab": {
          "base_uri": "https://localhost:8080/",
          "height": 34
        }
      },
      "source": [
        "print(tf.__version__)"
      ],
      "execution_count": 2,
      "outputs": [
        {
          "output_type": "stream",
          "text": [
            "2.2.0-rc2\n"
          ],
          "name": "stdout"
        }
      ]
    },
    {
      "cell_type": "markdown",
      "metadata": {
        "id": "0iIQRuSjW2Ro",
        "colab_type": "text"
      },
      "source": [
        " I got this example from the the [tensorflow website](https://www.tensorflow.org/guide/function).\n",
        " Just make sure you check the [dbp++](https://pypi.org/project/pdbpp/) page to understand how to use the following commands\n",
        "* where,\n",
        "* list,\n",
        "* up,\n",
        "* down,\n",
        "* next,\n",
        "* step,\n",
        "* continue.\n",
        "\n",
        " Now, let's load the function"
      ]
    },
    {
      "cell_type": "code",
      "metadata": {
        "id": "9fv0WF2fW2Rq",
        "colab_type": "code",
        "colab": {}
      },
      "source": [
        "@tf.function\n",
        "def f(x):\n",
        "  if x > 0:\n",
        "    # Try setting a breakpoint here!\n",
        "    # Example:\n",
        "    import pdb\n",
        "    pdb.set_trace() # where, list, up, down, next, step, continue\n",
        "    x = x + 1\n",
        "    pdb.set_trace()\n",
        "  return x"
      ],
      "execution_count": 0,
      "outputs": []
    },
    {
      "cell_type": "markdown",
      "metadata": {
        "id": "05URigtPW2SB",
        "colab_type": "text"
      },
      "source": [
        "You have to configure the ***experimental_run_functions_eagerly***, to make ensure\n",
        "that the traced graph function is deactivated. Tensorflow states the following on its [website](https://www.tensorflow.org/api_docs/python/tf/config/experimental_run_functions_eagerly):\n",
        "> Calling tf.config.experimental_run_functions_eagerly(True) will make all invocations of tf.function run eagerly instead of running as a traced graph function.This can be useful for debugging or profiling. For example, let's say you implemented a simple iterative sqrt function, and you want to collect the intermediate values and plot the convergence. Appending the values to a list in @tf.function normally wouldn't work since it will just record the Tensors being traced, not the values. Instead, you can do the following."
      ]
    },
    {
      "cell_type": "code",
      "metadata": {
        "id": "Nh9riWm7W2SN",
        "colab_type": "code",
        "outputId": "23328e96-f835-4d40-e959-289c04c592e5",
        "colab": {
          "base_uri": "https://localhost:8080/",
          "height": 187
        }
      },
      "source": [
        "tf.config.experimental_run_functions_eagerly(True)\n",
        "\n",
        "# You can now set breakpoints and run the code in a debugger.\n",
        "f(tf.constant(1))\n",
        "\n",
        "tf.config.experimental_run_functions_eagerly(False)\n"
      ],
      "execution_count": 4,
      "outputs": [
        {
          "output_type": "stream",
          "text": [
            "> <ipython-input-3-8a1c7c69739c>(8)f()\n",
            "-> x = x + 1\n",
            "(Pdb) x\n",
            "<tf.Tensor: shape=(), dtype=int32, numpy=1>\n",
            "(Pdb) continue\n",
            "> <ipython-input-3-8a1c7c69739c>(10)f()\n",
            "-> return x\n",
            "(Pdb) x\n",
            "<tf.Tensor: shape=(), dtype=int32, numpy=2>\n",
            "(Pdb) continue\n"
          ],
          "name": "stdout"
        }
      ]
    },
    {
      "cell_type": "markdown",
      "metadata": {
        "id": "BH7B5_O3W2TC",
        "colab_type": "text"
      },
      "source": [
        " Finally, if you want to clear the screen, just run the following"
      ]
    },
    {
      "cell_type": "code",
      "metadata": {
        "id": "3As6AwAtW2TE",
        "colab_type": "code",
        "colab": {}
      },
      "source": [
        "os.system('cls')\n",
        "\n"
      ],
      "execution_count": 0,
      "outputs": []
    }
  ]
}